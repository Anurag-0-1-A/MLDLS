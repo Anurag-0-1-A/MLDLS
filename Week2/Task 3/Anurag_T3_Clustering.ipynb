{
  "nbformat": 4,
  "nbformat_minor": 0,
  "metadata": {
    "colab": {
      "name": "Anurag_T3_Clustering.ipynb",
      "provenance": [],
      "include_colab_link": true
    },
    "kernelspec": {
      "name": "python3",
      "display_name": "Python 3"
    },
    "language_info": {
      "name": "python"
    }
  },
  "cells": [
    {
      "cell_type": "markdown",
      "metadata": {
        "id": "view-in-github",
        "colab_type": "text"
      },
      "source": [
        "<a href=\"https://colab.research.google.com/github/Anurag-0-1-A/MLDLS/blob/main/Week2/Task%203/Anurag_T3_Clustering.ipynb\" target=\"_parent\"><img src=\"https://colab.research.google.com/assets/colab-badge.svg\" alt=\"Open In Colab\"/></a>"
      ]
    },
    {
      "cell_type": "markdown",
      "metadata": {
        "id": "JEJVCsi3T-nJ"
      },
      "source": [
        "#Importing libraries"
      ]
    },
    {
      "cell_type": "code",
      "metadata": {
        "id": "dyJHuxfRRTlT"
      },
      "source": [
        "import pandas as pd\n",
        "import numpy as np\n",
        "import matplotlib.pyplot as plt"
      ],
      "execution_count": 2,
      "outputs": []
    },
    {
      "cell_type": "markdown",
      "metadata": {
        "id": "Cj7ANS2dUb1-"
      },
      "source": [
        "## Reading the data from the dataset"
      ]
    },
    {
      "cell_type": "code",
      "metadata": {
        "colab": {
          "base_uri": "https://localhost:8080/"
        },
        "id": "8SGcRuJHRdoD",
        "outputId": "45f01ca2-9cf3-49eb-876d-6c1779d1ca74"
      },
      "source": [
        "data = pd.read_csv(\"/content/wine-clustering.csv\")\n",
        "print(data)"
      ],
      "execution_count": 3,
      "outputs": [
        {
          "output_type": "stream",
          "text": [
            "     Alcohol  Malic_Acid   Ash  ...   Hue  OD280  Proline\n",
            "0      14.23        1.71  2.43  ...  1.04   3.92     1065\n",
            "1      13.20        1.78  2.14  ...  1.05   3.40     1050\n",
            "2      13.16        2.36  2.67  ...  1.03   3.17     1185\n",
            "3      14.37        1.95  2.50  ...  0.86   3.45     1480\n",
            "4      13.24        2.59  2.87  ...  1.04   2.93      735\n",
            "..       ...         ...   ...  ...   ...    ...      ...\n",
            "173    13.71        5.65  2.45  ...  0.64   1.74      740\n",
            "174    13.40        3.91  2.48  ...  0.70   1.56      750\n",
            "175    13.27        4.28  2.26  ...  0.59   1.56      835\n",
            "176    13.17        2.59  2.37  ...  0.60   1.62      840\n",
            "177    14.13        4.10  2.74  ...  0.61   1.60      560\n",
            "\n",
            "[178 rows x 13 columns]\n"
          ],
          "name": "stdout"
        }
      ]
    },
    {
      "cell_type": "markdown",
      "metadata": {
        "id": "dp2c24qZUgKP"
      },
      "source": [
        "## Dropping the other columns"
      ]
    },
    {
      "cell_type": "code",
      "metadata": {
        "colab": {
          "base_uri": "https://localhost:8080/",
          "height": 422
        },
        "id": "orMtACofB3EB",
        "outputId": "2ffb1eb7-5975-4ec4-978e-0562116a4fd2"
      },
      "source": [
        "data.drop(['Ash','Ash_Alcanity','Magnesium','Total_Phenols','Flavanoids','Nonflavanoid_Phenols','Proanthocyanins','Color_Intensity','Hue','OD280','Proline'], axis=1, inplace=True)\n",
        "data"
      ],
      "execution_count": 5,
      "outputs": [
        {
          "output_type": "execute_result",
          "data": {
            "text/html": [
              "<div>\n",
              "<style scoped>\n",
              "    .dataframe tbody tr th:only-of-type {\n",
              "        vertical-align: middle;\n",
              "    }\n",
              "\n",
              "    .dataframe tbody tr th {\n",
              "        vertical-align: top;\n",
              "    }\n",
              "\n",
              "    .dataframe thead th {\n",
              "        text-align: right;\n",
              "    }\n",
              "</style>\n",
              "<table border=\"1\" class=\"dataframe\">\n",
              "  <thead>\n",
              "    <tr style=\"text-align: right;\">\n",
              "      <th></th>\n",
              "      <th>Alcohol</th>\n",
              "      <th>Malic_Acid</th>\n",
              "    </tr>\n",
              "  </thead>\n",
              "  <tbody>\n",
              "    <tr>\n",
              "      <th>0</th>\n",
              "      <td>14.23</td>\n",
              "      <td>1.71</td>\n",
              "    </tr>\n",
              "    <tr>\n",
              "      <th>1</th>\n",
              "      <td>13.20</td>\n",
              "      <td>1.78</td>\n",
              "    </tr>\n",
              "    <tr>\n",
              "      <th>2</th>\n",
              "      <td>13.16</td>\n",
              "      <td>2.36</td>\n",
              "    </tr>\n",
              "    <tr>\n",
              "      <th>3</th>\n",
              "      <td>14.37</td>\n",
              "      <td>1.95</td>\n",
              "    </tr>\n",
              "    <tr>\n",
              "      <th>4</th>\n",
              "      <td>13.24</td>\n",
              "      <td>2.59</td>\n",
              "    </tr>\n",
              "    <tr>\n",
              "      <th>...</th>\n",
              "      <td>...</td>\n",
              "      <td>...</td>\n",
              "    </tr>\n",
              "    <tr>\n",
              "      <th>173</th>\n",
              "      <td>13.71</td>\n",
              "      <td>5.65</td>\n",
              "    </tr>\n",
              "    <tr>\n",
              "      <th>174</th>\n",
              "      <td>13.40</td>\n",
              "      <td>3.91</td>\n",
              "    </tr>\n",
              "    <tr>\n",
              "      <th>175</th>\n",
              "      <td>13.27</td>\n",
              "      <td>4.28</td>\n",
              "    </tr>\n",
              "    <tr>\n",
              "      <th>176</th>\n",
              "      <td>13.17</td>\n",
              "      <td>2.59</td>\n",
              "    </tr>\n",
              "    <tr>\n",
              "      <th>177</th>\n",
              "      <td>14.13</td>\n",
              "      <td>4.10</td>\n",
              "    </tr>\n",
              "  </tbody>\n",
              "</table>\n",
              "<p>178 rows × 2 columns</p>\n",
              "</div>"
            ],
            "text/plain": [
              "     Alcohol  Malic_Acid\n",
              "0      14.23        1.71\n",
              "1      13.20        1.78\n",
              "2      13.16        2.36\n",
              "3      14.37        1.95\n",
              "4      13.24        2.59\n",
              "..       ...         ...\n",
              "173    13.71        5.65\n",
              "174    13.40        3.91\n",
              "175    13.27        4.28\n",
              "176    13.17        2.59\n",
              "177    14.13        4.10\n",
              "\n",
              "[178 rows x 2 columns]"
            ]
          },
          "metadata": {
            "tags": []
          },
          "execution_count": 5
        }
      ]
    },
    {
      "cell_type": "markdown",
      "metadata": {
        "id": "aeAKXNIDUmmd"
      },
      "source": [
        "## Splitting the data "
      ]
    },
    {
      "cell_type": "code",
      "metadata": {
        "id": "HE-4--WGRnpH"
      },
      "source": [
        "X = data.iloc[:,:].values\n",
        "x1= data.iloc[:,0].values\n",
        "x2= data.iloc[:,1].values"
      ],
      "execution_count": 6,
      "outputs": []
    },
    {
      "cell_type": "markdown",
      "metadata": {
        "id": "E-B5cy4oUshL"
      },
      "source": [
        "## PLotting the splitted data"
      ]
    },
    {
      "cell_type": "code",
      "metadata": {
        "colab": {
          "base_uri": "https://localhost:8080/",
          "height": 284
        },
        "id": "h8kitI0_Sof_",
        "outputId": "49b4b2d5-c328-4618-8c82-fd0228b60cc0"
      },
      "source": [
        "plt.scatter(x1, x2)\n",
        "plt.plot()"
      ],
      "execution_count": 7,
      "outputs": [
        {
          "output_type": "execute_result",
          "data": {
            "text/plain": [
              "[]"
            ]
          },
          "metadata": {
            "tags": []
          },
          "execution_count": 7
        },
        {
          "output_type": "display_data",
          "data": {
            "image/png": "[encoded data removed]",
            "text/plain": [
              "<Figure size 432x288 with 1 Axes>"
            ]
          },
          "metadata": {
            "tags": [],
            "needs_background": "light"
          }
        }
      ]
    },
    {
      "cell_type": "markdown",
      "metadata": {
        "id": "rXZxB-ZsU14K"
      },
      "source": [
        "## Fitting the data into the K-means algorithm and calculating the centroids"
      ]
    },
    {
      "cell_type": "code",
      "metadata": {
        "colab": {
          "base_uri": "https://localhost:8080/"
        },
        "id": "iGW687giSKDC",
        "outputId": "b281b59c-7881-4cbf-d210-34bd519ce925"
      },
      "source": [
        "from sklearn.cluster import KMeans\n",
        "# Number of clusters\n",
        "kmeans = KMeans(n_clusters=3)\n",
        "# Getting the cluster labels\n",
        "labels = kmeans.fit_predict(data)\n",
        "data[\"KMeans\"]= labels\n",
        "# Centroid values\n",
        "centroids = kmeans.cluster_centers_\n",
        "print(\"Centroid values\")\n",
        "print(centroids) "
      ],
      "execution_count": 9,
      "outputs": [
        {
          "output_type": "stream",
          "text": [
            "Centroid values\n",
            "[[12.21349206  1.6531746 ]\n",
            " [13.0632      3.8948    ]\n",
            " [13.71538462  1.79969231]]\n"
          ],
          "name": "stdout"
        }
      ]
    },
    {
      "cell_type": "code",
      "metadata": {
        "colab": {
          "base_uri": "https://localhost:8080/"
        },
        "id": "A6QkSBeLZZwY",
        "outputId": "530ed948-f7ac-4bbf-d77d-37664c3015e2"
      },
      "source": [
        "print(data)"
      ],
      "execution_count": 10,
      "outputs": [
        {
          "output_type": "stream",
          "text": [
            "     Alcohol  Malic_Acid  KMeans\n",
            "0      14.23        1.71       2\n",
            "1      13.20        1.78       2\n",
            "2      13.16        2.36       2\n",
            "3      14.37        1.95       2\n",
            "4      13.24        2.59       2\n",
            "..       ...         ...     ...\n",
            "173    13.71        5.65       1\n",
            "174    13.40        3.91       1\n",
            "175    13.27        4.28       1\n",
            "176    13.17        2.59       2\n",
            "177    14.13        4.10       1\n",
            "\n",
            "[178 rows x 3 columns]\n"
          ],
          "name": "stdout"
        }
      ]
    },
    {
      "cell_type": "code",
      "metadata": {
        "colab": {
          "base_uri": "https://localhost:8080/"
        },
        "id": "zil1ssshsyha",
        "outputId": "96605504-908e-4e7a-9ac6-e420fc7c29b1"
      },
      "source": [
        "len(X)"
      ],
      "execution_count": 11,
      "outputs": [
        {
          "output_type": "execute_result",
          "data": {
            "text/plain": [
              "178"
            ]
          },
          "metadata": {
            "tags": []
          },
          "execution_count": 11
        }
      ]
    },
    {
      "cell_type": "markdown",
      "metadata": {
        "id": "cuos0avrVJQj"
      },
      "source": [
        "##Plotting the clusters and centroids"
      ]
    },
    {
      "cell_type": "code",
      "metadata": {
        "colab": {
          "base_uri": "https://localhost:8080/",
          "height": 284
        },
        "id": "JMXv1oBfSkSc",
        "outputId": "56d03914-d10a-4753-ea64-16c970a3174d"
      },
      "source": [
        "k=3\n",
        "colors = ['r', 'g', 'b']\n",
        "fig, ax = plt.subplots()\n",
        "for i in range(k):\n",
        "        points = np.array([X[j] for j in range(len(X)) if labels[j] == i])\n",
        "        ax.scatter(points[:, 0], points[:, 1], c=colors[i])       \n",
        "ax.scatter(centroids[:, 0], centroids[:, 1], marker='*', s=500)"
      ],
      "execution_count": 12,
      "outputs": [
        {
          "output_type": "execute_result",
          "data": {
            "text/plain": [
              "<matplotlib.collections.PathCollection at 0x7fdf82e877d0>"
            ]
          },
          "metadata": {
            "tags": []
          },
          "execution_count": 12
        },
        {
          "output_type": "display_data",
          "data": {
            "image/png": "[encoded data removed]",
            "text/plain": [
              "<Figure size 432x288 with 1 Axes>"
            ]
          },
          "metadata": {
            "tags": [],
            "needs_background": "light"
          }
        }
      ]
    }
  ]
}