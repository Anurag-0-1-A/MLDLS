{
  "nbformat": 4,
  "nbformat_minor": 0,
  "metadata": {
    "colab": {
      "name": "Anurag_MLDL_W1.ipynb",
      "provenance": [],
      "collapsed_sections": [],
      "authorship_tag": "ABX9TyMp6c8dAHi5yRX3vruoev7j",
      "include_colab_link": true
    },
    "kernelspec": {
      "name": "python3",
      "display_name": "Python 3"
    },
    "language_info": {
      "name": "python"
    }
  },
  "cells": [
    {
      "cell_type": "markdown",
      "metadata": {
        "id": "view-in-github",
        "colab_type": "text"
      },
      "source": [
        "<a href=\"https://colab.research.google.com/github/Anurag-0-1-A/MLDLS/blob/main/Anurag_MLDL_W1.ipynb\" target=\"_parent\"><img src=\"https://colab.research.google.com/assets/colab-badge.svg\" alt=\"Open In Colab\"/></a>"
      ]
    },
    {
      "cell_type": "markdown",
      "metadata": {
        "id": "8pAQygh1rYTj"
      },
      "source": [
        "# Importing libraries\n",
        "- Numpy : for handling the data in the form of arrays rather than list due to their faster computation\n",
        "- Pandas : for handling datasets in Python\n",
        "- Matplotlib : for plotting graphs using the submodule pyplot \n",
        "\n",
        "Here np, pd and plt are the respective aliasing for the libraries"
      ]
    },
    {
      "cell_type": "code",
      "metadata": {
        "id": "UgaXaGB9rO3O"
      },
      "source": [
        "import numpy as np\n",
        "import pandas as pd\n",
        "import matplotlib.pyplot as plt"
      ],
      "execution_count": null,
      "outputs": []
    },
    {
      "cell_type": "markdown",
      "metadata": {
        "id": "fMGG1TSOsoj-"
      },
      "source": [
        "## Reading Dataset\n",
        "\n",
        "Here we read the data set using read_csv function which gets the path of the dataset as our input and we assign it in a variable called data_set and then print it"
      ]
    },
    {
      "cell_type": "code",
      "metadata": {
        "colab": {
          "base_uri": "https://localhost:8080/"
        },
        "id": "DmGJBD9nsVE5",
        "outputId": "36aa4449-b9f6-4523-90bc-26ae49fc1f6d"
      },
      "source": [
        "data_set=pd.read_csv('/content/Salary_Data.csv')\n",
        "print(data_set)"
      ],
      "execution_count": null,
      "outputs": [
        {
          "output_type": "stream",
          "text": [
            "    YearsExperience    Salary\n",
            "0               1.1   39343.0\n",
            "1               1.3   46205.0\n",
            "2               1.5   37731.0\n",
            "3               2.0   43525.0\n",
            "4               2.2   39891.0\n",
            "5               2.9   56642.0\n",
            "6               3.0   60150.0\n",
            "7               3.2   54445.0\n",
            "8               3.2   64445.0\n",
            "9               3.7   57189.0\n",
            "10              3.9   63218.0\n",
            "11              4.0   55794.0\n",
            "12              4.0   56957.0\n",
            "13              4.1   57081.0\n",
            "14              4.5   61111.0\n",
            "15              4.9   67938.0\n",
            "16              5.1   66029.0\n",
            "17              5.3   83088.0\n",
            "18              5.9   81363.0\n",
            "19              6.0   93940.0\n",
            "20              6.8   91738.0\n",
            "21              7.1   98273.0\n",
            "22              7.9  101302.0\n",
            "23              8.2  113812.0\n",
            "24              8.7  109431.0\n",
            "25              9.0  105582.0\n",
            "26              9.5  116969.0\n",
            "27              9.6  112635.0\n",
            "28             10.3  122391.0\n",
            "29             10.5  121872.0\n"
          ],
          "name": "stdout"
        }
      ]
    },
    {
      "cell_type": "markdown",
      "metadata": {
        "id": "G5weAze3tyBB"
      },
      "source": [
        "## Segregating the Data\n",
        "- Here we segregate the data into X and Y. iloc function contains two parameters as input as [row, column]. \n",
        "\n",
        "- We use the concept of indexing to separate the X values \n",
        "  - for eg. `iloc[:,:-1]` obtains all the rows but only single column from the reverse indexing. Similarly we do the same for fetching Y. \n",
        "- The `.values` function specifically returns the values rather than other parameters of the dataset along with it."
      ]
    },
    {
      "cell_type": "code",
      "metadata": {
        "colab": {
          "base_uri": "https://localhost:8080/"
        },
        "id": "Kd4Lb2xisnGp",
        "outputId": "0c8214df-b81d-4af8-f797-7796dc0f3904"
      },
      "source": [
        "X = data_set.iloc[:,:-1].values\n",
        "Y = data_set.iloc[:,-1].values\n",
        "print(X)\n",
        "print(Y)"
      ],
      "execution_count": null,
      "outputs": [
        {
          "output_type": "stream",
          "text": [
            "[[ 1.1]\n",
            " [ 1.3]\n",
            " [ 1.5]\n",
            " [ 2. ]\n",
            " [ 2.2]\n",
            " [ 2.9]\n",
            " [ 3. ]\n",
            " [ 3.2]\n",
            " [ 3.2]\n",
            " [ 3.7]\n",
            " [ 3.9]\n",
            " [ 4. ]\n",
            " [ 4. ]\n",
            " [ 4.1]\n",
            " [ 4.5]\n",
            " [ 4.9]\n",
            " [ 5.1]\n",
            " [ 5.3]\n",
            " [ 5.9]\n",
            " [ 6. ]\n",
            " [ 6.8]\n",
            " [ 7.1]\n",
            " [ 7.9]\n",
            " [ 8.2]\n",
            " [ 8.7]\n",
            " [ 9. ]\n",
            " [ 9.5]\n",
            " [ 9.6]\n",
            " [10.3]\n",
            " [10.5]]\n",
            "[ 39343.  46205.  37731.  43525.  39891.  56642.  60150.  54445.  64445.\n",
            "  57189.  63218.  55794.  56957.  57081.  61111.  67938.  66029.  83088.\n",
            "  81363.  93940.  91738.  98273. 101302. 113812. 109431. 105582. 116969.\n",
            " 112635. 122391. 121872.]\n"
          ],
          "name": "stdout"
        }
      ]
    },
    {
      "cell_type": "markdown",
      "metadata": {
        "id": "kAfyCSIV0yB4"
      },
      "source": [
        "## Plotting Graphs\n",
        "\n",
        "- Here we first label the X-axis and Y-axis using the xlabel and ylabel function for our graph.\n",
        "- And then giving the title using title function for our graph.\n",
        "- Scatter function plots the scatter plot using X and Y as the input parameters.(Here the color and the shape of the plot is defined by default but we can change it if we want)"
      ]
    },
    {
      "cell_type": "code",
      "metadata": {
        "colab": {
          "base_uri": "https://localhost:8080/",
          "height": 312
        },
        "id": "WOQpsrFmtb6a",
        "outputId": "ae649fb8-6195-4cb5-99b1-83a2af527cc2"
      },
      "source": [
        "plt.xlabel('Years of Experience')\n",
        "plt.ylabel('Salary')\n",
        "plt.title('Salary Prediction')\n",
        "plt.scatter(X,Y)"
      ],
      "execution_count": null,
      "outputs": [
        {
          "output_type": "execute_result",
          "data": {
            "text/plain": [
              "<matplotlib.collections.PathCollection at 0x7f6e26bb7310>"
            ]
          },
          "metadata": {
            "tags": []
          },
          "execution_count": 4
        },
        {
          "output_type": "display_data",
          "data": {
            "image/png": "[encoded data removed]",
            "text/plain": [
              "<Figure size 432x288 with 1 Axes>"
            ]
          },
          "metadata": {
            "tags": [],
            "needs_background": "light"
          }
        }
      ]
    },
    {
      "cell_type": "markdown",
      "metadata": {
        "id": "qe3ofhCU4Avi"
      },
      "source": [
        "## Splitting the Data\n",
        "\n",
        "- Here we import the train_test from sklearn.model_selection library. \n",
        "- As the train_test_split returns 4 parameters so they are stored in X_train, X_test, Y_train, Y_test respectively.\n",
        "- The test_size is the ratio which we want to keep for training our data is to the testing of data.\n",
        "- Hence, we are splitting the data into training data sets and testing data sets for our model to learn.\n",
        "- At last we print the shape of the X_train and Y_train array."
      ]
    },
    {
      "cell_type": "code",
      "metadata": {
        "colab": {
          "base_uri": "https://localhost:8080/"
        },
        "id": "Ttt0I_GD0XCQ",
        "outputId": "dd11d5ab-b309-47f1-d47e-8f97ebb6255a"
      },
      "source": [
        "from sklearn.model_selection import train_test_split\n",
        "X_train, X_test, Y_train, Y_test = train_test_split(X, Y, test_size=0.3)\n",
        "print(X_train.shape, Y_train.shape)"
      ],
      "execution_count": null,
      "outputs": [
        {
          "output_type": "stream",
          "text": [
            "(21, 1) (21,)\n"
          ],
          "name": "stdout"
        }
      ]
    },
    {
      "cell_type": "markdown",
      "metadata": {
        "id": "Xg1Ujvb65WNg"
      },
      "source": [
        "## Fitting Simple Linear Regression\n",
        "\n",
        "- Here from sklearn library and its submodule linear_model we import Linear Regression function.\n",
        "- We then store the Linear Regression function into the variable model.\n",
        "- After that we fit our model using the training data. "
      ]
    },
    {
      "cell_type": "code",
      "metadata": {
        "colab": {
          "base_uri": "https://localhost:8080/"
        },
        "id": "Y1uEkc0w32lk",
        "outputId": "ac6d6134-f30e-468b-a2b4-8edaf57e80f4"
      },
      "source": [
        "from sklearn.linear_model import LinearRegression\n",
        "model = LinearRegression()\n",
        "model.fit(X_train, Y_train)"
      ],
      "execution_count": null,
      "outputs": [
        {
          "output_type": "execute_result",
          "data": {
            "text/plain": [
              "LinearRegression(copy_X=True, fit_intercept=True, n_jobs=None, normalize=False)"
            ]
          },
          "metadata": {
            "tags": []
          },
          "execution_count": 7
        }
      ]
    },
    {
      "cell_type": "markdown",
      "metadata": {
        "id": "m4EJx_mR7l8e"
      },
      "source": [
        "## Predicting the data\n",
        "\n",
        "- Based on the X_test data i.e the Years of experience, we predict the Y_pred which is the Salary."
      ]
    },
    {
      "cell_type": "code",
      "metadata": {
        "colab": {
          "base_uri": "https://localhost:8080/"
        },
        "id": "REsC60SF54x2",
        "outputId": "8f46a37e-6762-42e7-bdee-59bf8141c0f1"
      },
      "source": [
        "Y_pred = model.predict(X_test)\n",
        "print(Y_pred)\n",
        "print(Y_train)"
      ],
      "execution_count": null,
      "outputs": [
        {
          "output_type": "stream",
          "text": [
            "[ 82352.9444743   34492.09090432 108725.25154347 124353.28536224\n",
            " 111655.50788449  62817.90220084  71608.6712239   61841.15008717\n",
            "  36445.59513167]\n",
            "[ 98273.  43525.  91738.  60150.  55794. 113812. 116969.  66029.  56642.\n",
            "  54445.  83088.  39891. 121872.  64445. 112635.  57081. 101302.  81363.\n",
            "  37731.  57189.  61111.]\n"
          ],
          "name": "stdout"
        }
      ]
    },
    {
      "cell_type": "markdown",
      "metadata": {
        "id": "Atq1eA0O8TWU"
      },
      "source": [
        "## Calculating Accuracy\n",
        "\n",
        "- Using the score function we calculate the accuracy, having the X_test and Y_test as the parameters. "
      ]
    },
    {
      "cell_type": "code",
      "metadata": {
        "colab": {
          "base_uri": "https://localhost:8080/"
        },
        "id": "hyupbxOi8EJe",
        "outputId": "028e73df-5813-4bb1-9b20-2a4feae0ee10"
      },
      "source": [
        "accuracy = model.score(X_test, Y_test)\n",
        "print(accuracy)"
      ],
      "execution_count": null,
      "outputs": [
        {
          "output_type": "stream",
          "text": [
            "0.9524882055479814\n"
          ],
          "name": "stdout"
        }
      ]
    },
    {
      "cell_type": "markdown",
      "metadata": {
        "id": "Z1mDk95897wF"
      },
      "source": [
        "## Plotting the Curve\n",
        "\n",
        "- Here, we plot the curve based on the datapoints whether of training data set or of testing dataset and check how our model is predicting which can be shown via the curve based on data points.\n",
        "\n",
        "- Therefore, we plot the training dataset points using scatter function.\n",
        "\n",
        "- Giving label to X-axis and Y-axis respectively and also giving the title to our graph.\n",
        "\n",
        "- After that, we use plot function to plot the curve based on the prediction using training dataset and testing dataset respectively.\n",
        "\n",
        "- We are mainly using X_test or X_train because it is the main feature based on which we will predict our Y or Salary."
      ]
    },
    {
      "cell_type": "code",
      "metadata": {
        "colab": {
          "base_uri": "https://localhost:8080/",
          "height": 573
        },
        "id": "AMCmjw3U8dKm",
        "outputId": "ab2229d5-2c79-4031-abdb-37118d3927ed"
      },
      "source": [
        "plt.scatter(X_train, Y_train)\n",
        "plt.xlabel('Years of Experience')\n",
        "plt.ylabel('Salary')\n",
        "plt.title('Salary Prediction (Training Set)')\n",
        "plt.plot(X_train, model.predict(X_train))\n",
        "plt.show()\n",
        "\n",
        "plt.scatter(X_test, Y_test, color='red')\n",
        "plt.xlabel('Years of Experience')\n",
        "plt.ylabel('Salary')\n",
        "plt.title('Salary Prediction (Test Set)')\n",
        "plt.plot(X_test, model.predict(X_test))\n",
        "plt.show()"
      ],
      "execution_count": null,
      "outputs": [
        {
          "output_type": "display_data",
          "data": {
            "image/png": "[encoded data removed]",
            "text/plain": [
              "<Figure size 432x288 with 1 Axes>"
            ]
          },
          "metadata": {
            "tags": [],
            "needs_background": "light"
          }
        },
        {
          "output_type": "display_data",
          "data": {
            "image/png": "[encoded data removed]",
            "text/plain": [
              "<Figure size 432x288 with 1 Axes>"
            ]
          },
          "metadata": {
            "tags": [],
            "needs_background": "light"
          }
        }
      ]
    },
    {
      "cell_type": "markdown",
      "metadata": {
        "id": "nXI9ydVHBwx7"
      },
      "source": [
        "## Testing \n",
        "\n",
        "- Here, we will manually input the years of experience to get the predicted salary from our model.\n",
        "\n",
        "-  We will use input function which gets the input from the user during the runtime. Here we have enclosed the input function within int() which lets user to only enter integer values as input and store it in the test_exp variable.\n",
        "\n",
        "- Then, we apply model.predict function on our input and predict it. Then we store it in the variable.\n",
        "\n",
        "- After, then we print the result. "
      ]
    },
    {
      "cell_type": "code",
      "metadata": {
        "colab": {
          "base_uri": "https://localhost:8080/"
        },
        "id": "899rkpbZ-XlC",
        "outputId": "44ec83ce-c2b3-4532-b1be-a0402899ca38"
      },
      "source": [
        "test_exp = int(input('What is the Year of experience ? '))\n",
        "predict_sal = model.predict(np.array([[test_exp]]))\n",
        "print('The Salary may be : '+ str(predict_sal))"
      ],
      "execution_count": null,
      "outputs": [
        {
          "output_type": "stream",
          "text": [
            "What is the Year of experience ? 8\n",
            "The Salary may be : [101887.98674776]\n"
          ],
          "name": "stdout"
        }
      ]
    },
    {
      "cell_type": "code",
      "metadata": {
        "id": "DDfQiUx8IByZ"
      },
      "source": [
        ""
      ],
      "execution_count": null,
      "outputs": []
    }
  ]
}
